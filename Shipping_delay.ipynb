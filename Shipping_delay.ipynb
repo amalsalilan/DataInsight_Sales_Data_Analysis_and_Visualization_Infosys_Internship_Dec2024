{
 "cells": [
  {
   "cell_type": "code",
   "execution_count": 1,
   "id": "99a974fa-13df-4cc8-a8a3-7a0f35d51974",
   "metadata": {},
   "outputs": [],
   "source": [
    "import pandas as pd\n",
    "import matplotlib.pyplot as plt"
   ]
  },
  {
   "cell_type": "code",
   "execution_count": 2,
   "id": "22b077a6-2c8f-4d3a-b7c2-e5251b456ad9",
   "metadata": {},
   "outputs": [],
   "source": [
    "# Load dataset\n",
    "file_path = r\"C:\\Users\\kamal\\Desktop\\CODE\\walmart_Retail_Dataset.xlsx\"\n",
    "df = pd.ExcelFile(file_path).parse('walmart Retail Data')"
   ]
  },
  {
   "cell_type": "code",
   "execution_count": 3,
   "id": "b101f5a9-3f5b-46d2-8e20-ce6f11fea9a2",
   "metadata": {},
   "outputs": [],
   "source": [
    "# Convert dates to datetime format\n",
    "df['Order Date'] = pd.to_datetime(df['Order Date'])\n",
    "df['Ship Date'] = pd.to_datetime(df['Ship Date'])"
   ]
  },
  {
   "cell_type": "code",
   "execution_count": 4,
   "id": "455e515f-8439-4de4-bcb5-475810ee7162",
   "metadata": {},
   "outputs": [],
   "source": [
    "# Calculate shipping delay\n",
    "df['Shipping Delay'] = (df['Ship Date'] - df['Order Date']).dt.days"
   ]
  },
  {
   "cell_type": "code",
   "execution_count": 5,
   "id": "cccbb17d-278d-440f-a33e-6ce331b2c091",
   "metadata": {},
   "outputs": [],
   "source": [
    "# Calculate average shipping delay per product\n",
    "delay_by_product = df.groupby('Product Name')['Shipping Delay'].mean().sort_values()"
   ]
  },
  {
   "cell_type": "code",
   "execution_count": 6,
   "id": "71e5479c-77fb-48cf-983b-d7ce631f6b9e",
   "metadata": {},
   "outputs": [
    {
     "name": "stdout",
     "output_type": "stream",
     "text": [
      "Average Shipping Delay by Product:\n",
      "Product Name\n",
      "SAFCO Boltless Steel Shelving                                      0.000000\n",
      "Strathmore #10 Envelopes, Ultimate White                           0.000000\n",
      "Sauder Camden County Barrister Bookcase, Planked Cherry Finish     0.000000\n",
      "Computer Printout Index Tabs                                       0.000000\n",
      "Eldon Advantage® Foldable Chair Mats for Low Pile Carpets          0.333333\n",
      "                                                                    ...    \n",
      "Eureka The Boss® Plus 12-Amp Hard Box Upright Vacuum, Red          7.000000\n",
      "Xerox 1985                                                         7.000000\n",
      "282                                                                7.400000\n",
      "Quartet Alpha® White Chalk, 12/Pack                               11.777778\n",
      "#10 Self-Seal White Envelopes                                     19.000000\n",
      "Name: Shipping Delay, Length: 1263, dtype: float64\n"
     ]
    }
   ],
   "source": [
    "# Display average shipping delay\n",
    "print(\"Average Shipping Delay by Product:\")\n",
    "print(delay_by_product)"
   ]
  },
  {
   "cell_type": "code",
   "execution_count": 9,
   "id": "a95f0907-af14-445c-a582-9bc8597e94ec",
   "metadata": {},
   "outputs": [
    {
     "name": "stdin",
     "output_type": "stream",
     "text": [
      "Enter product name to view delay trend:  Xerox 1985  \n"
     ]
    },
    {
     "name": "stdout",
     "output_type": "stream",
     "text": [
      "Product not found in the dataset. Please enter a valid product name.\n"
     ]
    }
   ],
   "source": [
    "# Shipping Delay for a specific product\n",
    "product_name = input(\"Enter product name to view delay trend: \")\n",
    "\n",
    "if product_name in df['Product Name'].values:\n",
    "    product_df = df[df['Product Name'] == product_name]\n",
    "    \n",
    "    plt.figure(figsize=(10, 5))\n",
    "    plt.plot(product_df['Order Date'], product_df['Shipping Delay'], marker='o', linestyle='-', label='Shipping Delay')\n",
    "    plt.xlabel(\"Order Date\")\n",
    "    plt.ylabel(\"Shipping Delay (Days)\")\n",
    "    plt.title(f\"Shipping Delay Trend for {product_name}\")\n",
    "    plt.legend()\n",
    "    plt.xticks(rotation=45)\n",
    "    plt.show()\n",
    "else:\n",
    "    print(\"Product not found in the dataset. Please enter a valid product name.\")"
   ]
  },
  {
   "cell_type": "code",
   "execution_count": null,
   "id": "fe542c81-4147-4423-9c2d-5f86295b7686",
   "metadata": {},
   "outputs": [],
   "source": []
  }
 ],
 "metadata": {
  "kernelspec": {
   "display_name": "Python 3 (ipykernel)",
   "language": "python",
   "name": "python3"
  },
  "language_info": {
   "codemirror_mode": {
    "name": "ipython",
    "version": 3
   },
   "file_extension": ".py",
   "mimetype": "text/x-python",
   "name": "python",
   "nbconvert_exporter": "python",
   "pygments_lexer": "ipython3",
   "version": "3.11.6"
  }
 },
 "nbformat": 4,
 "nbformat_minor": 5
}
