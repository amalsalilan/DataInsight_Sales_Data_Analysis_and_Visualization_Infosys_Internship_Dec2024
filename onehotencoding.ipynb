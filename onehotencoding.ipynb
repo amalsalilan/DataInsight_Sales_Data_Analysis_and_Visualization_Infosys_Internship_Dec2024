{
  "nbformat": 4,
  "nbformat_minor": 0,
  "metadata": {
    "colab": {
      "provenance": [],
      "authorship_tag": "ABX9TyOWrPtbDsmlS/PVe29fFLC9",
      "include_colab_link": true
    },
    "kernelspec": {
      "name": "python3",
      "display_name": "Python 3"
    },
    "language_info": {
      "name": "python"
    }
  },
  "cells": [
    {
      "cell_type": "markdown",
      "metadata": {
        "id": "view-in-github",
        "colab_type": "text"
      },
      "source": [
        "<a href=\"https://colab.research.google.com/github/amalsalilan/DataInsight_Sales_Data_Analysis_and_Visualization_Infosys_Internship_Dec2024/blob/Akshaya_R/onehotencoding.ipynb\" target=\"_parent\"><img src=\"https://colab.research.google.com/assets/colab-badge.svg\" alt=\"Open In Colab\"/></a>"
      ]
    },
    {
      "cell_type": "code",
      "execution_count": null,
      "metadata": {
        "id": "KyvLA2dTzqAg"
      },
      "outputs": [],
      "source": [
        "import pandas as pd\n",
        "import numpy as np\n",
        "from sklearn.preprocessing import MinMaxScaler\n",
        "from sklearn.impute import SimpleImputer\n",
        "from sklearn.preprocessing import OneHotEncoder, OrdinalEncoder\n",
        "from sklearn.compose import ColumnTransformer\n",
        "from sklearn.pipeline import Pipeline"
      ]
    },
    {
      "cell_type": "code",
      "source": [
        "from google.colab import files\n",
        "\n",
        "uploaded = files.upload()\n"
      ],
      "metadata": {
        "colab": {
          "base_uri": "https://localhost:8080/",
          "height": 73
        },
        "id": "8wQ80tgIzuJO",
        "outputId": "f061bcd3-8df1-41a1-b979-81132eb440a1"
      },
      "execution_count": null,
      "outputs": [
        {
          "output_type": "display_data",
          "data": {
            "text/plain": [
              "<IPython.core.display.HTML object>"
            ],
            "text/html": [
              "\n",
              "     <input type=\"file\" id=\"files-b9ef04e1-c8a6-4671-90a3-86221870e8fb\" name=\"files[]\" multiple disabled\n",
              "        style=\"border:none\" />\n",
              "     <output id=\"result-b9ef04e1-c8a6-4671-90a3-86221870e8fb\">\n",
              "      Upload widget is only available when the cell has been executed in the\n",
              "      current browser session. Please rerun this cell to enable.\n",
              "      </output>\n",
              "      <script>// Copyright 2017 Google LLC\n",
              "//\n",
              "// Licensed under the Apache License, Version 2.0 (the \"License\");\n",
              "// you may not use this file except in compliance with the License.\n",
              "// You may obtain a copy of the License at\n",
              "//\n",
              "//      http://www.apache.org/licenses/LICENSE-2.0\n",
              "//\n",
              "// Unless required by applicable law or agreed to in writing, software\n",
              "// distributed under the License is distributed on an \"AS IS\" BASIS,\n",
              "// WITHOUT WARRANTIES OR CONDITIONS OF ANY KIND, either express or implied.\n",
              "// See the License for the specific language governing permissions and\n",
              "// limitations under the License.\n",
              "\n",
              "/**\n",
              " * @fileoverview Helpers for google.colab Python module.\n",
              " */\n",
              "(function(scope) {\n",
              "function span(text, styleAttributes = {}) {\n",
              "  const element = document.createElement('span');\n",
              "  element.textContent = text;\n",
              "  for (const key of Object.keys(styleAttributes)) {\n",
              "    element.style[key] = styleAttributes[key];\n",
              "  }\n",
              "  return element;\n",
              "}\n",
              "\n",
              "// Max number of bytes which will be uploaded at a time.\n",
              "const MAX_PAYLOAD_SIZE = 100 * 1024;\n",
              "\n",
              "function _uploadFiles(inputId, outputId) {\n",
              "  const steps = uploadFilesStep(inputId, outputId);\n",
              "  const outputElement = document.getElementById(outputId);\n",
              "  // Cache steps on the outputElement to make it available for the next call\n",
              "  // to uploadFilesContinue from Python.\n",
              "  outputElement.steps = steps;\n",
              "\n",
              "  return _uploadFilesContinue(outputId);\n",
              "}\n",
              "\n",
              "// This is roughly an async generator (not supported in the browser yet),\n",
              "// where there are multiple asynchronous steps and the Python side is going\n",
              "// to poll for completion of each step.\n",
              "// This uses a Promise to block the python side on completion of each step,\n",
              "// then passes the result of the previous step as the input to the next step.\n",
              "function _uploadFilesContinue(outputId) {\n",
              "  const outputElement = document.getElementById(outputId);\n",
              "  const steps = outputElement.steps;\n",
              "\n",
              "  const next = steps.next(outputElement.lastPromiseValue);\n",
              "  return Promise.resolve(next.value.promise).then((value) => {\n",
              "    // Cache the last promise value to make it available to the next\n",
              "    // step of the generator.\n",
              "    outputElement.lastPromiseValue = value;\n",
              "    return next.value.response;\n",
              "  });\n",
              "}\n",
              "\n",
              "/**\n",
              " * Generator function which is called between each async step of the upload\n",
              " * process.\n",
              " * @param {string} inputId Element ID of the input file picker element.\n",
              " * @param {string} outputId Element ID of the output display.\n",
              " * @return {!Iterable<!Object>} Iterable of next steps.\n",
              " */\n",
              "function* uploadFilesStep(inputId, outputId) {\n",
              "  const inputElement = document.getElementById(inputId);\n",
              "  inputElement.disabled = false;\n",
              "\n",
              "  const outputElement = document.getElementById(outputId);\n",
              "  outputElement.innerHTML = '';\n",
              "\n",
              "  const pickedPromise = new Promise((resolve) => {\n",
              "    inputElement.addEventListener('change', (e) => {\n",
              "      resolve(e.target.files);\n",
              "    });\n",
              "  });\n",
              "\n",
              "  const cancel = document.createElement('button');\n",
              "  inputElement.parentElement.appendChild(cancel);\n",
              "  cancel.textContent = 'Cancel upload';\n",
              "  const cancelPromise = new Promise((resolve) => {\n",
              "    cancel.onclick = () => {\n",
              "      resolve(null);\n",
              "    };\n",
              "  });\n",
              "\n",
              "  // Wait for the user to pick the files.\n",
              "  const files = yield {\n",
              "    promise: Promise.race([pickedPromise, cancelPromise]),\n",
              "    response: {\n",
              "      action: 'starting',\n",
              "    }\n",
              "  };\n",
              "\n",
              "  cancel.remove();\n",
              "\n",
              "  // Disable the input element since further picks are not allowed.\n",
              "  inputElement.disabled = true;\n",
              "\n",
              "  if (!files) {\n",
              "    return {\n",
              "      response: {\n",
              "        action: 'complete',\n",
              "      }\n",
              "    };\n",
              "  }\n",
              "\n",
              "  for (const file of files) {\n",
              "    const li = document.createElement('li');\n",
              "    li.append(span(file.name, {fontWeight: 'bold'}));\n",
              "    li.append(span(\n",
              "        `(${file.type || 'n/a'}) - ${file.size} bytes, ` +\n",
              "        `last modified: ${\n",
              "            file.lastModifiedDate ? file.lastModifiedDate.toLocaleDateString() :\n",
              "                                    'n/a'} - `));\n",
              "    const percent = span('0% done');\n",
              "    li.appendChild(percent);\n",
              "\n",
              "    outputElement.appendChild(li);\n",
              "\n",
              "    const fileDataPromise = new Promise((resolve) => {\n",
              "      const reader = new FileReader();\n",
              "      reader.onload = (e) => {\n",
              "        resolve(e.target.result);\n",
              "      };\n",
              "      reader.readAsArrayBuffer(file);\n",
              "    });\n",
              "    // Wait for the data to be ready.\n",
              "    let fileData = yield {\n",
              "      promise: fileDataPromise,\n",
              "      response: {\n",
              "        action: 'continue',\n",
              "      }\n",
              "    };\n",
              "\n",
              "    // Use a chunked sending to avoid message size limits. See b/62115660.\n",
              "    let position = 0;\n",
              "    do {\n",
              "      const length = Math.min(fileData.byteLength - position, MAX_PAYLOAD_SIZE);\n",
              "      const chunk = new Uint8Array(fileData, position, length);\n",
              "      position += length;\n",
              "\n",
              "      const base64 = btoa(String.fromCharCode.apply(null, chunk));\n",
              "      yield {\n",
              "        response: {\n",
              "          action: 'append',\n",
              "          file: file.name,\n",
              "          data: base64,\n",
              "        },\n",
              "      };\n",
              "\n",
              "      let percentDone = fileData.byteLength === 0 ?\n",
              "          100 :\n",
              "          Math.round((position / fileData.byteLength) * 100);\n",
              "      percent.textContent = `${percentDone}% done`;\n",
              "\n",
              "    } while (position < fileData.byteLength);\n",
              "  }\n",
              "\n",
              "  // All done.\n",
              "  yield {\n",
              "    response: {\n",
              "      action: 'complete',\n",
              "    }\n",
              "  };\n",
              "}\n",
              "\n",
              "scope.google = scope.google || {};\n",
              "scope.google.colab = scope.google.colab || {};\n",
              "scope.google.colab._files = {\n",
              "  _uploadFiles,\n",
              "  _uploadFilesContinue,\n",
              "};\n",
              "})(self);\n",
              "</script> "
            ]
          },
          "metadata": {}
        },
        {
          "output_type": "stream",
          "name": "stdout",
          "text": [
            "Saving walmart Retail Data.xlsx to walmart Retail Data.xlsx\n"
          ]
        }
      ]
    },
    {
      "cell_type": "code",
      "source": [
        "df = pd.read_excel('walmart Retail Data.xlsx')"
      ],
      "metadata": {
        "id": "0piKmRqIz9BL"
      },
      "execution_count": null,
      "outputs": []
    },
    {
      "cell_type": "code",
      "source": [
        "\n",
        "print(f\"Number of missing values in 'Customer Age': {df['Customer Age'].isnull().sum()}\")\n",
        "age_imputer = SimpleImputer(strategy='median')\n",
        "df['Customer Age'] = age_imputer.fit_transform(df[['Customer Age']])\n",
        "\n",
        "print(f\"Number of missing values after imputation: {df['Customer Age'].isnull().sum()}\")\n"
      ],
      "metadata": {
        "colab": {
          "base_uri": "https://localhost:8080/"
        },
        "id": "7YOcOkVd10Tr",
        "outputId": "f370e4e9-e39d-43b8-bc5a-6e368c4f4cd8"
      },
      "execution_count": null,
      "outputs": [
        {
          "output_type": "stream",
          "name": "stdout",
          "text": [
            "Number of missing values in 'Customer Age': 903\n",
            "Number of missing values after imputation: 0\n"
          ]
        }
      ]
    },
    {
      "cell_type": "code",
      "source": [
        "numerical_cols = df.select_dtypes(include=['float64', 'int64']).columns\n",
        "categorical_cols = df.select_dtypes(include=['object']).columns"
      ],
      "metadata": {
        "id": "eQ1XrcUo1-Z6"
      },
      "execution_count": null,
      "outputs": []
    },
    {
      "cell_type": "code",
      "source": [
        "num_imputer = SimpleImputer(strategy='mean')\n",
        "df[numerical_cols] = num_imputer.fit_transform(df[numerical_cols])"
      ],
      "metadata": {
        "id": "MkSf5QjX0MZ9"
      },
      "execution_count": null,
      "outputs": []
    },
    {
      "cell_type": "code",
      "source": [
        "cat_imputer = SimpleImputer(strategy='most_frequent')\n",
        "df[categorical_cols] = cat_imputer.fit_transform(df[categorical_cols])"
      ],
      "metadata": {
        "id": "PBjpdHDH0TnS"
      },
      "execution_count": null,
      "outputs": []
    },
    {
      "cell_type": "code",
      "source": [
        "\n",
        "column_name = 'Product Category'\n",
        "if column_name in df.columns:\n",
        "    unique_values = df[column_name].unique()\n",
        "    print(f\"Unique values in '{column_name}':\")\n",
        "    print(unique_values)\n",
        "else:\n",
        "    print(f\"Column '{column_name}' not found in the dataset.\")\n"
      ],
      "metadata": {
        "colab": {
          "base_uri": "https://localhost:8080/"
        },
        "id": "r9lqUIgQ_fdC",
        "outputId": "f83591c8-05aa-4665-9064-2cfe18752ed9"
      },
      "execution_count": null,
      "outputs": [
        {
          "output_type": "stream",
          "name": "stdout",
          "text": [
            "Unique values in 'Product Category':\n",
            "['Office Supplies' 'Furniture' 'Technology']\n"
          ]
        }
      ]
    },
    {
      "cell_type": "code",
      "source": [
        "nominal_cols = ['Product Category', 'Region']\n",
        "if all(col in df.columns for col in nominal_cols):\n",
        "    df = pd.get_dummies(df, columns=nominal_cols, drop_first=True)"
      ],
      "metadata": {
        "id": "f7gpPXaR0y6R"
      },
      "execution_count": null,
      "outputs": []
    },
    {
      "cell_type": "code",
      "source": [
        "if 'Order Priority' in df.columns:\n",
        "    priority_order = ['Not Specified', 'Low', 'Medium', 'High', 'Critical']\n",
        "    ordinal_encoder = OrdinalEncoder(categories=[priority_order])\n",
        "    df['Order Priority'] = ordinal_encoder.fit_transform(df[['Order Priority']])"
      ],
      "metadata": {
        "id": "Xkx9J_wb3A_f"
      },
      "execution_count": null,
      "outputs": []
    },
    {
      "cell_type": "code",
      "source": [
        "\n",
        "df.to_excel('processed_walmart_data.xlsx', index=False)\n",
        "files.download('processed_walmart_data.xlsx')\n"
      ],
      "metadata": {
        "colab": {
          "base_uri": "https://localhost:8080/",
          "height": 17
        },
        "id": "RvOpRAMa3FE3",
        "outputId": "ad750f5f-4a20-4f28-aaf2-507638f96d9e"
      },
      "execution_count": null,
      "outputs": [
        {
          "output_type": "display_data",
          "data": {
            "text/plain": [
              "<IPython.core.display.Javascript object>"
            ],
            "application/javascript": [
              "\n",
              "    async function download(id, filename, size) {\n",
              "      if (!google.colab.kernel.accessAllowed) {\n",
              "        return;\n",
              "      }\n",
              "      const div = document.createElement('div');\n",
              "      const label = document.createElement('label');\n",
              "      label.textContent = `Downloading \"${filename}\": `;\n",
              "      div.appendChild(label);\n",
              "      const progress = document.createElement('progress');\n",
              "      progress.max = size;\n",
              "      div.appendChild(progress);\n",
              "      document.body.appendChild(div);\n",
              "\n",
              "      const buffers = [];\n",
              "      let downloaded = 0;\n",
              "\n",
              "      const channel = await google.colab.kernel.comms.open(id);\n",
              "      // Send a message to notify the kernel that we're ready.\n",
              "      channel.send({})\n",
              "\n",
              "      for await (const message of channel.messages) {\n",
              "        // Send a message to notify the kernel that we're ready.\n",
              "        channel.send({})\n",
              "        if (message.buffers) {\n",
              "          for (const buffer of message.buffers) {\n",
              "            buffers.push(buffer);\n",
              "            downloaded += buffer.byteLength;\n",
              "            progress.value = downloaded;\n",
              "          }\n",
              "        }\n",
              "      }\n",
              "      const blob = new Blob(buffers, {type: 'application/binary'});\n",
              "      const a = document.createElement('a');\n",
              "      a.href = window.URL.createObjectURL(blob);\n",
              "      a.download = filename;\n",
              "      div.appendChild(a);\n",
              "      a.click();\n",
              "      div.remove();\n",
              "    }\n",
              "  "
            ]
          },
          "metadata": {}
        },
        {
          "output_type": "display_data",
          "data": {
            "text/plain": [
              "<IPython.core.display.Javascript object>"
            ],
            "application/javascript": [
              "download(\"download_0ca67f9c-08dc-4bc3-b5b9-e3032e064c1a\", \"processed_walmart_data.xlsx\", 1396672)"
            ]
          },
          "metadata": {}
        }
      ]
    },
    {
      "cell_type": "code",
      "source": [
        "scaler = MinMaxScaler()\n",
        "scaled_columns = [\"Customer Age\", \"Discount\", \"Order Quantity\",\n",
        "                  \"Product Base Margin\", \"Profit\", \"Sales\",\n",
        "                  \"Shipping Cost\", \"Unit Price\"]"
      ],
      "metadata": {
        "id": "KhSzyIBcAQgG"
      },
      "execution_count": null,
      "outputs": []
    },
    {
      "cell_type": "code",
      "source": [
        "df_scaled = pd.DataFrame(scaler.fit_transform(df[scaled_columns]), columns=scaled_columns)"
      ],
      "metadata": {
        "id": "fO3FmhY8Ac_y"
      },
      "execution_count": null,
      "outputs": []
    },
    {
      "cell_type": "code",
      "source": [
        "print(\"Original Data:\")\n",
        "print(df)\n",
        "print(\"\\nScaled Data:\")\n",
        "print(df_scaled)"
      ],
      "metadata": {
        "colab": {
          "base_uri": "https://localhost:8080/"
        },
        "id": "N-jHAPzRAhy3",
        "outputId": "7e81ce4f-2aad-4084-ec48-689e0bc8e227"
      },
      "execution_count": null,
      "outputs": [
        {
          "output_type": "stream",
          "name": "stdout",
          "text": [
            "Original Data:\n",
            "                City  Customer Age      Customer Name Customer Segment  \\\n",
            "0         McKeesport          53.0     Jessica Myrick   Small Business   \n",
            "1              Bowie          53.0     Matt Collister      Home Office   \n",
            "2               Napa          53.0  Alan Schoenberger        Corporate   \n",
            "3         Montebello          53.0  Elizabeth Moffitt         Consumer   \n",
            "4               Napa          53.0  Alan Schoenberger        Corporate   \n",
            "...              ...           ...                ...              ...   \n",
            "8394       Fairfield          95.0      Tony Molinari        Corporate   \n",
            "8395  Harker Heights          95.0    Matt Hagelstein      Home Office   \n",
            "8396       Riverview          95.0      Theresa Swint         Consumer   \n",
            "8397   Nicholasville          95.0    Maribeth Yedwab      Home Office   \n",
            "8398   Nicholasville          95.0    Maribeth Yedwab      Home Office   \n",
            "\n",
            "      Discount  Number of Records Order Date  Order ID Order Priority  \\\n",
            "0         0.10                  1 2012-01-01     28774           High   \n",
            "1         0.08                  1 2012-01-01     13729  Not Specified   \n",
            "2         0.00                  1 2012-01-02     37537            Low   \n",
            "3         0.08                  1 2012-01-02     44069       Critical   \n",
            "4         0.07                  1 2012-01-02     37537            Low   \n",
            "...        ...                ...        ...       ...            ...   \n",
            "8394      0.10                  1 2015-12-30     50950  Not Specified   \n",
            "8395      0.09                  1 2015-12-30     25542            Low   \n",
            "8396      0.10                  1 2015-12-30     45127         Medium   \n",
            "8397      0.09                  1 2015-12-30     49344            Low   \n",
            "8398      0.00                  1 2015-12-30     49344            Low   \n",
            "\n",
            "      Order Quantity  ...   Profit   Region Row ID    Sales  Ship Date  \\\n",
            "0                 32  ...  -111.80     East   4031   180.36 2012-01-02   \n",
            "1                  9  ...  -342.91     East   1914   872.48 2012-01-03   \n",
            "2                  4  ...  -193.08     West   5272  1239.06 2012-01-02   \n",
            "3                 43  ...   247.79     West   6225   614.80 2012-01-02   \n",
            "4                 43  ... -1049.85     West   5273  4083.19 2012-01-04   \n",
            "...              ...  ...      ...      ...    ...      ...        ...   \n",
            "8394              35  ...   -15.07     West   7142   448.10 2015-12-30   \n",
            "8395              37  ...   -18.66  Central   3583   257.46 2015-12-30   \n",
            "8396              10  ...    -1.29    South   6361    14.15 2015-12-30   \n",
            "8397               1  ...  -745.20    South   6916   803.33 2015-12-30   \n",
            "8398              31  ...    27.85    South   6915   672.93 2015-12-30   \n",
            "\n",
            "           Ship Mode Shipping Cost         State  Unit Price Zip Code  \n",
            "0        Regular Air          4.69  Pennsylvania        5.98    15131  \n",
            "1        Express Air         35.00      Maryland       95.99    20715  \n",
            "2     Delivery Truck         48.80    California      291.73    94559  \n",
            "3        Regular Air          1.97    California       15.04    90640  \n",
            "4     Delivery Truck         45.00    California      100.98    94559  \n",
            "...              ...           ...           ...         ...      ...  \n",
            "8394     Express Air          4.51    California       13.48    94533  \n",
            "8395     Express Air          4.23         Texas        7.28    76543  \n",
            "8396     Regular Air          0.70       Florida        1.48    33569  \n",
            "8397     Regular Air         24.49      Kentucky      832.81    40356  \n",
            "8398     Regular Air          4.00      Kentucky       19.98    40356  \n",
            "\n",
            "[8399 rows x 25 columns]\n",
            "\n",
            "Scaled Data:\n",
            "      Customer Age  Discount  Order Quantity  Product Base Margin    Profit  \\\n",
            "0         0.222222      0.40        0.632653                 0.66  0.339179   \n",
            "1         0.222222      0.32        0.163265                  NaN  0.333591   \n",
            "2         0.222222      0.00        0.061224                 0.42  0.337214   \n",
            "3         0.222222      0.32        0.857143                 0.08  0.347873   \n",
            "4         0.222222      0.28        0.857143                 0.68  0.316499   \n",
            "...            ...       ...             ...                  ...       ...   \n",
            "8394      1.000000      0.40        0.693878                 0.48  0.341517   \n",
            "8395      1.000000      0.36        0.734694                 0.08  0.341431   \n",
            "8396      1.000000      0.40        0.183673                 0.04  0.341850   \n",
            "8397      1.000000      0.36        0.000000                 0.96  0.323865   \n",
            "8398      1.000000      0.00        0.612245                 0.66  0.342555   \n",
            "\n",
            "         Sales  Shipping Cost  Unit Price  \n",
            "0     0.002000       0.025572    0.000736  \n",
            "1     0.009772       0.210119    0.014008  \n",
            "2     0.013888       0.294143    0.042869  \n",
            "3     0.006878       0.009011    0.002072  \n",
            "4     0.045823       0.271006    0.014743  \n",
            "...        ...            ...         ...  \n",
            "8394  0.005006       0.024476    0.001842  \n",
            "8395  0.002866       0.022772    0.000927  \n",
            "8396  0.000134       0.001279    0.000072  \n",
            "8397  0.008995       0.146128    0.122651  \n",
            "8398  0.007531       0.021371    0.002800  \n",
            "\n",
            "[8399 rows x 8 columns]\n"
          ]
        }
      ]
    }
  ]
}