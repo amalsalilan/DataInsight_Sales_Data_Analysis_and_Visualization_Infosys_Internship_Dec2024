{
 "cells": [
  {
   "cell_type": "code",
   "execution_count": 1,
   "id": "44c1aa08-7b3f-43c8-8a43-6fd49fba094a",
   "metadata": {},
   "outputs": [
    {
     "name": "stdout",
     "output_type": "stream",
     "text": [
      "Requirement already satisfied: xgboost in c:\\users\\sadaa\\anaconda3\\lib\\site-packages (2.1.3)\n",
      "Requirement already satisfied: numpy in c:\\users\\sadaa\\anaconda3\\lib\\site-packages (from xgboost) (1.26.4)\n",
      "Requirement already satisfied: scipy in c:\\users\\sadaa\\anaconda3\\lib\\site-packages (from xgboost) (1.13.1)\n",
      "Note: you may need to restart the kernel to use updated packages.\n"
     ]
    }
   ],
   "source": [
    "pip install xgboost"
   ]
  },
  {
   "cell_type": "code",
   "execution_count": 1,
   "id": "06afc7db-6707-4df8-8d46-29020cbe197c",
   "metadata": {},
   "outputs": [
    {
     "data": {
      "text/plain": [
       "array([0, 1])"
      ]
     },
     "execution_count": 1,
     "metadata": {},
     "output_type": "execute_result"
    }
   ],
   "source": [
    "import pandas as pd\n",
    "import numpy as np\n",
    "from sklearn.compose import ColumnTransformer\n",
    "from sklearn.preprocessing import OneHotEncoder, StandardScaler\n",
    "from sklearn.model_selection import train_test_split\n",
    "from xgboost import XGBClassifier\n",
    "from sklearn.metrics import accuracy_score, classification_report\n",
    "from sklearn.impute import SimpleImputer\n",
    "\n",
    "# Load dataset\n",
    "df = pd.read_excel(r\"C:\\Users\\sadaa\\OneDrive\\Desktop\\walmart Retail Data.xlsx\")\n",
    "\n",
    "# Feature Engineering: Calculate Shipping Delay (days)\n",
    "df['Shipping Delay'] = (df['Ship Date'] - df['Order Date']).dt.days\n",
    "\n",
    "df['Order Priority'] = df['Order Priority'].replace('Not Specified', np.nan)\n",
    "\n",
    "imputer = SimpleImputer(strategy='most_frequent')\n",
    "df['Order Priority'] = imputer.fit_transform(df[['Order Priority']]).ravel()\n",
    "\n",
    "# Define delay threshold based on Ship Mode\n",
    "delay_thresholds = {\n",
    "    \"Same Day\": 0,\n",
    "    \"First Class\": 1,\n",
    "    \"Regular Air\": 3,\n",
    "    \"Delivery Truck\": 5,\n",
    "    \"Express Air\": 2\n",
    "}\n",
    "\n",
    "df['Expected Delay'] = df['Ship Mode'].map(delay_thresholds)\n",
    "df['Target_Classification'] = (df['Shipping Delay'] > df['Expected Delay']).astype(int)\n",
    "\n",
    "# Drop rows with missing target values\n",
    "df = df.dropna(subset=['Target_Classification'])\n",
    "\n",
    "df['Target_Classification'].unique()"
   ]
  },
  {
   "cell_type": "code",
   "execution_count": 3,
   "id": "01129d42-f878-40b3-b2e3-3b6d0a4216ae",
   "metadata": {},
   "outputs": [
    {
     "name": "stdout",
     "output_type": "stream",
     "text": [
      "Accuracy: 0.92\n",
      "              precision    recall  f1-score   support\n",
      "\n",
      "           0       0.97      0.93      0.95      1460\n",
      "           1       0.64      0.80      0.72       220\n",
      "\n",
      "    accuracy                           0.92      1680\n",
      "   macro avg       0.81      0.87      0.83      1680\n",
      "weighted avg       0.93      0.92      0.92      1680\n",
      "\n"
     ]
    }
   ],
   "source": [
    "# Define features and target\n",
    "features = ['Order Priority', 'Ship Mode', 'Region', 'Shipping Cost', 'Order Quantity', 'Discount', 'Profit']\n",
    "X = df[features]\n",
    "y = df['Target_Classification']\n",
    "# Preprocessing Pipeline\n",
    "categorical_features = ['Order Priority', 'Ship Mode', 'Region']\n",
    "numerical_features = ['Shipping Cost', 'Order Quantity', 'Discount', 'Profit']\n",
    "\n",
    "preprocessor = ColumnTransformer(\n",
    "    transformers=[\n",
    "        ('cat', OneHotEncoder(handle_unknown='ignore'), categorical_features),\n",
    "        ('num', StandardScaler(), numerical_features)\n",
    "    ]\n",
    ")\n",
    "\n",
    "# Transform features\n",
    "X_transformed = preprocessor.fit_transform(X)\n",
    "\n",
    "# Train-Test Split\n",
    "X_train, X_test, y_train, y_test = train_test_split(X_transformed, y, test_size=0.2, random_state=42)\n",
    "\n",
    "# Train Classification Model using XGBoost\n",
    "clf = XGBClassifier(n_estimators=100, learning_rate=0.1, max_depth=6, random_state=42)\n",
    "clf.fit(X_train, y_train)\n",
    "\n",
    "# Evaluate Model\n",
    "y_pred = clf.predict(X_test)\n",
    "print(f\"Accuracy: {accuracy_score(y_test, y_pred):.2f}\")\n",
    "print(classification_report(y_test, y_pred))"
   ]
  },
  {
   "cell_type": "code",
   "execution_count": 5,
   "id": "03ce387b-25dd-4f7d-8508-84465d76cd80",
   "metadata": {},
   "outputs": [
    {
     "name": "stdout",
     "output_type": "stream",
     "text": [
      "Predicted Shipping Status: On-Time\n"
     ]
    }
   ],
   "source": [
    "# Function to Predict Delay Status\n",
    "def predict_delay_status(data):\n",
    "    \"\"\"\n",
    "    Predict whether a shipment will be delayed or on-time.\n",
    "    \n",
    "    Args:\n",
    "        data (dict): Input data as a dictionary containing feature values.\n",
    "\n",
    "    Returns:\n",
    "        str: \"Delayed\" if the shipment is predicted to be delayed, otherwise \"On-Time\".\n",
    "    \"\"\"\n",
    "    df_input = pd.DataFrame([data])\n",
    "     # Preprocess input data\n",
    "    X_categorical = df_input[categorical_features]\n",
    "    X_numerical = df_input[numerical_features]\n",
    "    X_encoded = preprocessor.transform(df_input)\n",
    "    \n",
    "    # Make prediction\n",
    "    prediction = clf.predict(X_encoded)\n",
    "    return \"Delayed\" if prediction[0] == 1 else \"On-Time\"\n",
    "\n",
    "# Example Usage\n",
    "sample_input = {\n",
    "    'Order Priority': 'High',\n",
    "    'Ship Mode': 'First Class',\n",
    "    'Region': 'East',\n",
    "    'Shipping Cost': 20.0,\n",
    "    'Order Quantity': 3,\n",
    "    'Discount': 0.05,\n",
    "    'Profit': 50.0\n",
    "}\n",
    "\n",
    "predicted_status = predict_delay_status(sample_input)\n",
    "print(f\"Predicted Shipping Status: {predicted_status}\")\n"
   ]
  },
  {
   "cell_type": "code",
   "execution_count": 7,
   "id": "ce05c5af-6bc2-49de-99da-1b954f8efa39",
   "metadata": {},
   "outputs": [
    {
     "name": "stdout",
     "output_type": "stream",
     "text": [
      "Predicted Shipping Status: Delayed\n"
     ]
    }
   ],
   "source": [
    "# Example Usage\n",
    "sample_input = {\n",
    "    'Order Priority': 'Low',\n",
    "    'Ship Mode': 'First Class',\n",
    "    'Region': 'East',\n",
    "    'Shipping Cost': 10.0,\n",
    "    'Order Quantity': 3,\n",
    "    'Discount': 10,\n",
    "    'Profit': 100.0\n",
    "}\n",
    "\n",
    "predicted_status = predict_delay_status(sample_input)\n",
    "print(f\"Predicted Shipping Status: {predicted_status}\")\n"
   ]
  }
 ],
 "metadata": {
  "kernelspec": {
   "display_name": "Python [conda env:base] *",
   "language": "python",
   "name": "conda-base-py"
  },
  "language_info": {
   "codemirror_mode": {
    "name": "ipython",
    "version": 3
   },
   "file_extension": ".py",
   "mimetype": "text/x-python",
   "name": "python",
   "nbconvert_exporter": "python",
   "pygments_lexer": "ipython3",
   "version": "3.12.7"
  }
 },
 "nbformat": 4,
 "nbformat_minor": 5
}
